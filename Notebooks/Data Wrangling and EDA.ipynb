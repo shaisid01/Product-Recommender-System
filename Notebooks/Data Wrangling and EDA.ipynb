{
 "cells": [
  {
   "cell_type": "markdown",
   "id": "16c07df2",
   "metadata": {},
   "source": [
    "# Data Wrangling and EDA"
   ]
  },
  {
   "cell_type": "markdown",
   "id": "d0a2ad42",
   "metadata": {},
   "source": [
    "How online stores can help customers to buy the right product from their millions of products,so that online retailers can retain the customer from going elsewhere and see yearly increase in their average order value. Build a recommendation system so that customers can get the right product with personalized info.\n",
    "\n",
    "Online stores show millions of products to the customer from their catalog. Choosing the correct product for their needs is becoming difficult because of so much information.Since customers are more likely to buy based on personalized recommendations, management has decided to go for a recommendation system so that they can retain the customer and hence increase yearly product sales\n"
   ]
  },
  {
   "cell_type": "markdown",
   "id": "e84274d5",
   "metadata": {},
   "source": [
    "## Refernces"
   ]
  },
  {
   "cell_type": "markdown",
   "id": "b0f04919",
   "metadata": {},
   "source": [
    "The dataset here is taken from the below website.\n",
    "\n",
    "Source - Amazon Reviews data (http://jmcauley.ucsd.edu/data/amazon/links.html) The repository has several datasets. For this case study, I am using the Electronics dataset."
   ]
  },
  {
   "cell_type": "markdown",
   "id": "c51b5ba4",
   "metadata": {},
   "source": [
    "## Data Dictionary"
   ]
  },
  {
   "cell_type": "markdown",
   "id": "294f217c",
   "metadata": {},
   "source": [
    "### Sample review dataset:"
   ]
  },
  {
   "cell_type": "markdown",
   "id": "5f8cc36b",
   "metadata": {},
   "source": [
    "    {\n",
    "      \"reviewerID\": \"A2SUAM1J3GNN3B\",\n",
    "      \"asin\": \"0000013714\",\n",
    "      \"reviewerName\": \"J. McDonald\",\n",
    "      \"helpful\": [2, 3],\n",
    "      \"reviewText\": \"I bought this for my husband who plays the piano.  He is having a wonderful time playing these old hymns.  The music  is at times hard to read because we think the book was published for singing from more than playing from.  Great purchase though!\",\n",
    "      \"overall\": 5.0,\n",
    "      \"summary\": \"Heavenly Highway Hymns\",\n",
    "      \"unixReviewTime\": 1252800000,\n",
    "      \"reviewTime\": \"09 13, 2009\"\n",
    "    }"
   ]
  },
  {
   "cell_type": "markdown",
   "id": "85dc43f4",
   "metadata": {},
   "source": [
    "* reviewerID - ID of the reviewer, e.g. A2SUAM1J3GNN3B\n",
    "* asin - ID of the product, e.g. 0000013714\n",
    "* reviewerName - name of the reviewer\n",
    "* helpful - helpfulness rating of the review, e.g. 2/3\n",
    "* reviewText - text of the review\n",
    "* overall - rating of the product\n",
    "* summary - summary of the review\n",
    "* unixReviewTime - time of the review (unix time)\n",
    "* reviewTime - time of the review (raw)"
   ]
  },
  {
   "cell_type": "markdown",
   "id": "85ea61ff",
   "metadata": {},
   "source": [
    "### Sample Meta data"
   ]
  },
  {
   "cell_type": "markdown",
   "id": "b65361ba",
   "metadata": {},
   "source": [
    "    {\n",
    "      \"asin\": \"0000031852\",\n",
    "      \"title\": \"Girls Ballet Tutu Zebra Hot Pink\",\n",
    "      \"price\": 3.17,\n",
    "      \"imUrl\": \"http://ecx.images-amazon.com/images/I/51fAmVkTbyL._SY300_.jpg\",\n",
    "      \"related\":\n",
    "      {\n",
    "        \"also_bought\": [\"B00JHONN1S\", \"B002BZX8Z6\", \"B00D2K1M3O\", \"0000031909\", \"B00613WDTQ\", \"B00D0WDS9A\", \"B00D0GCI8S\", \"0000031895\", \"B003AVKOP2\", \"B003AVEU6G\", \"B003IEDM9Q\", \"B002R0FA24\", \"B00D23MC6W\", \"B00D2K0PA0\", \"B00538F5OK\", \"B00CEV86I6\", \"B002R0FABA\", \"B00D10CLVW\", \"B003AVNY6I\", \"B002GZGI4E\", \"B001T9NUFS\", \"B002R0F7FE\", \"B00E1YRI4C\", \"B008UBQZKU\", \"B00D103F8U\", \"B007R2RM8W\"],\n",
    "        \"also_viewed\": [\"B002BZX8Z6\", \"B00JHONN1S\", \"B008F0SU0Y\", \"B00D23MC6W\", \"B00AFDOPDA\", \"B00E1YRI4C\", \"B002GZGI4E\", \"B003AVKOP2\", \"B00D9C1WBM\", \"B00CEV8366\", \"B00CEUX0D8\", \"B0079ME3KU\", \"B00CEUWY8K\", \"B004FOEEHC\", \"0000031895\", \"B00BC4GY9Y\", \"B003XRKA7A\", \"B00K18LKX2\", \"B00EM7KAG6\", \"B00AMQ17JA\", \"B00D9C32NI\", \"B002C3Y6WG\", \"B00JLL4L5Y\", \"B003AVNY6I\", \"B008UBQZKU\", \"B00D0WDS9A\", \"B00613WDTQ\", \"B00538F5OK\", \"B005C4Y4F6\", \"B004LHZ1NY\", \"B00CPHX76U\", \"B00CEUWUZC\", \"B00IJVASUE\", \"B00GOR07RE\", \"B00J2GTM0W\", \"B00JHNSNSM\", \"B003IEDM9Q\", \"B00CYBU84G\", \"B008VV8NSQ\", \"B00CYBULSO\", \"B00I2UHSZA\", \"B005F50FXC\", \"B007LCQI3S\", \"B00DP68AVW\", \"B009RXWNSI\", \"B003AVEU6G\", \"B00HSOJB9M\", \"B00EHAGZNA\", \"B0046W9T8C\", \"B00E79VW6Q\", \"B00D10CLVW\", \"B00B0AVO54\", \"B00E95LC8Q\", \"B00GOR92SO\", \"B007ZN5Y56\", \"B00AL2569W\", \"B00B608000\", \"B008F0SMUC\", \"B00BFXLZ8M\"],\n",
    "        \"bought_together\": [\"B002BZX8Z6\"]\n",
    "      },\n",
    "      \"salesRank\": {\"Toys & Games\": 211836},\n",
    "      \"brand\": \"Coxlures\",\n",
    "      \"categories\": [[\"Sports & Outdoors\", \"Other Sports\", \"Dance\"]]\n",
    "    }"
   ]
  },
  {
   "cell_type": "markdown",
   "id": "e665370a",
   "metadata": {},
   "source": [
    "* asin - ID of the product, e.g. 0000031852\n",
    "* title - name of the product\n",
    "* price - price in US dollars (at time of crawl)\n",
    "* imUrl - url of the product image\n",
    "* related - related products (also bought, also viewed, bought together, buy after viewing)\n",
    "* salesRank - sales rank information\n",
    "* brand - brand name\n",
    "* categories - list of categories the product belongs to"
   ]
  },
  {
   "cell_type": "markdown",
   "id": "396bf568",
   "metadata": {},
   "source": [
    "## Imports"
   ]
  },
  {
   "cell_type": "code",
   "execution_count": 30,
   "id": "44bc74cf",
   "metadata": {},
   "outputs": [],
   "source": [
    "import pandas as pd\n",
    "import numpy as np\n",
    "import matplotlib.pyplot as plt\n",
    "import seaborn as sns"
   ]
  },
  {
   "cell_type": "code",
   "execution_count": 31,
   "id": "5966191c",
   "metadata": {},
   "outputs": [],
   "source": [
    "# load data to CSV\n",
    "dfr = pd.read_csv('../Data/2.reviews_cleaned.csv',header=0)"
   ]
  },
  {
   "cell_type": "code",
   "execution_count": 32,
   "id": "1cf9f6f0",
   "metadata": {},
   "outputs": [
    {
     "data": {
      "text/html": [
       "<div>\n",
       "<style scoped>\n",
       "    .dataframe tbody tr th:only-of-type {\n",
       "        vertical-align: middle;\n",
       "    }\n",
       "\n",
       "    .dataframe tbody tr th {\n",
       "        vertical-align: top;\n",
       "    }\n",
       "\n",
       "    .dataframe thead th {\n",
       "        text-align: right;\n",
       "    }\n",
       "</style>\n",
       "<table border=\"1\" class=\"dataframe\">\n",
       "  <thead>\n",
       "    <tr style=\"text-align: right;\">\n",
       "      <th></th>\n",
       "      <th>reviewerID</th>\n",
       "      <th>asin</th>\n",
       "      <th>reviewerName</th>\n",
       "      <th>helpful</th>\n",
       "      <th>reviewText</th>\n",
       "      <th>overall</th>\n",
       "      <th>summary</th>\n",
       "      <th>unixReviewTime</th>\n",
       "      <th>reviewTime</th>\n",
       "      <th>imUrl</th>\n",
       "      <th>description</th>\n",
       "      <th>categories</th>\n",
       "      <th>title</th>\n",
       "      <th>price</th>\n",
       "      <th>salesRank</th>\n",
       "      <th>related</th>\n",
       "      <th>brand</th>\n",
       "    </tr>\n",
       "  </thead>\n",
       "  <tbody>\n",
       "    <tr>\n",
       "      <th>0</th>\n",
       "      <td>A2B4F6LP0ZLI8E</td>\n",
       "      <td>0594296420</td>\n",
       "      <td>Carol</td>\n",
       "      <td>[1, 1]</td>\n",
       "      <td>I bought this item to replace the original cha...</td>\n",
       "      <td>3.0</td>\n",
       "      <td>Plug replacement needed</td>\n",
       "      <td>1398556800</td>\n",
       "      <td>04 27, 2014</td>\n",
       "      <td>http://ecx.images-amazon.com/images/I/41Wwbxms...</td>\n",
       "      <td>If you prefer to charge your NOOK Simple Touch...</td>\n",
       "      <td>[['Electronics', 'Computers &amp; Accessories', 'L...</td>\n",
       "      <td>Barnes &amp;amp; Noble NOOK Simple Touch Wall Adap...</td>\n",
       "      <td>6.99</td>\n",
       "      <td>{}</td>\n",
       "      <td>{'also_bought': ['B0087UBS4M', 'B0032UP32K', '...</td>\n",
       "      <td>Barnes &amp;amp; Noble</td>\n",
       "    </tr>\n",
       "    <tr>\n",
       "      <th>1</th>\n",
       "      <td>A1RKH6803HVOQL</td>\n",
       "      <td>0594296420</td>\n",
       "      <td>Col \"Col\"</td>\n",
       "      <td>[1, 1]</td>\n",
       "      <td>This is a NOOK product and works as advertised...</td>\n",
       "      <td>5.0</td>\n",
       "      <td>Works with NOOK as advertised</td>\n",
       "      <td>1365379200</td>\n",
       "      <td>04 8, 2013</td>\n",
       "      <td>http://ecx.images-amazon.com/images/I/41Wwbxms...</td>\n",
       "      <td>If you prefer to charge your NOOK Simple Touch...</td>\n",
       "      <td>[['Electronics', 'Computers &amp; Accessories', 'L...</td>\n",
       "      <td>Barnes &amp;amp; Noble NOOK Simple Touch Wall Adap...</td>\n",
       "      <td>6.99</td>\n",
       "      <td>{}</td>\n",
       "      <td>{'also_bought': ['B0087UBS4M', 'B0032UP32K', '...</td>\n",
       "      <td>Barnes &amp;amp; Noble</td>\n",
       "    </tr>\n",
       "    <tr>\n",
       "      <th>2</th>\n",
       "      <td>A3ZNVCQCG57AY</td>\n",
       "      <td>0594296420</td>\n",
       "      <td>Kelly K.</td>\n",
       "      <td>[0, 0]</td>\n",
       "      <td>I purchased this plug to see if it would work ...</td>\n",
       "      <td>5.0</td>\n",
       "      <td>Works to Charge my Toshiba Excite Tablet</td>\n",
       "      <td>1359331200</td>\n",
       "      <td>01 28, 2013</td>\n",
       "      <td>http://ecx.images-amazon.com/images/I/41Wwbxms...</td>\n",
       "      <td>If you prefer to charge your NOOK Simple Touch...</td>\n",
       "      <td>[['Electronics', 'Computers &amp; Accessories', 'L...</td>\n",
       "      <td>Barnes &amp;amp; Noble NOOK Simple Touch Wall Adap...</td>\n",
       "      <td>6.99</td>\n",
       "      <td>{}</td>\n",
       "      <td>{'also_bought': ['B0087UBS4M', 'B0032UP32K', '...</td>\n",
       "      <td>Barnes &amp;amp; Noble</td>\n",
       "    </tr>\n",
       "  </tbody>\n",
       "</table>\n",
       "</div>"
      ],
      "text/plain": [
       "       reviewerID        asin reviewerName helpful  \\\n",
       "0  A2B4F6LP0ZLI8E  0594296420        Carol  [1, 1]   \n",
       "1  A1RKH6803HVOQL  0594296420    Col \"Col\"  [1, 1]   \n",
       "2   A3ZNVCQCG57AY  0594296420     Kelly K.  [0, 0]   \n",
       "\n",
       "                                          reviewText  overall  \\\n",
       "0  I bought this item to replace the original cha...      3.0   \n",
       "1  This is a NOOK product and works as advertised...      5.0   \n",
       "2  I purchased this plug to see if it would work ...      5.0   \n",
       "\n",
       "                                    summary  unixReviewTime   reviewTime  \\\n",
       "0                   Plug replacement needed      1398556800  04 27, 2014   \n",
       "1             Works with NOOK as advertised      1365379200   04 8, 2013   \n",
       "2  Works to Charge my Toshiba Excite Tablet      1359331200  01 28, 2013   \n",
       "\n",
       "                                               imUrl  \\\n",
       "0  http://ecx.images-amazon.com/images/I/41Wwbxms...   \n",
       "1  http://ecx.images-amazon.com/images/I/41Wwbxms...   \n",
       "2  http://ecx.images-amazon.com/images/I/41Wwbxms...   \n",
       "\n",
       "                                         description  \\\n",
       "0  If you prefer to charge your NOOK Simple Touch...   \n",
       "1  If you prefer to charge your NOOK Simple Touch...   \n",
       "2  If you prefer to charge your NOOK Simple Touch...   \n",
       "\n",
       "                                          categories  \\\n",
       "0  [['Electronics', 'Computers & Accessories', 'L...   \n",
       "1  [['Electronics', 'Computers & Accessories', 'L...   \n",
       "2  [['Electronics', 'Computers & Accessories', 'L...   \n",
       "\n",
       "                                               title  price salesRank  \\\n",
       "0  Barnes &amp; Noble NOOK Simple Touch Wall Adap...   6.99        {}   \n",
       "1  Barnes &amp; Noble NOOK Simple Touch Wall Adap...   6.99        {}   \n",
       "2  Barnes &amp; Noble NOOK Simple Touch Wall Adap...   6.99        {}   \n",
       "\n",
       "                                             related               brand  \n",
       "0  {'also_bought': ['B0087UBS4M', 'B0032UP32K', '...  Barnes &amp; Noble  \n",
       "1  {'also_bought': ['B0087UBS4M', 'B0032UP32K', '...  Barnes &amp; Noble  \n",
       "2  {'also_bought': ['B0087UBS4M', 'B0032UP32K', '...  Barnes &amp; Noble  "
      ]
     },
     "execution_count": 32,
     "metadata": {},
     "output_type": "execute_result"
    }
   ],
   "source": [
    "dfr.head(3)"
   ]
  },
  {
   "cell_type": "code",
   "execution_count": 33,
   "id": "d789c744",
   "metadata": {},
   "outputs": [
    {
     "data": {
      "text/plain": [
       "(1365131, 17)"
      ]
     },
     "execution_count": 33,
     "metadata": {},
     "output_type": "execute_result"
    }
   ],
   "source": [
    "dfr.shape"
   ]
  },
  {
   "cell_type": "code",
   "execution_count": 34,
   "id": "7cc1dcc5",
   "metadata": {},
   "outputs": [
    {
     "name": "stdout",
     "output_type": "stream",
     "text": [
      "<class 'pandas.core.frame.DataFrame'>\n",
      "RangeIndex: 1365131 entries, 0 to 1365130\n",
      "Data columns (total 17 columns):\n",
      " #   Column          Non-Null Count    Dtype  \n",
      "---  ------          --------------    -----  \n",
      " 0   reviewerID      1365131 non-null  object \n",
      " 1   asin            1365131 non-null  object \n",
      " 2   reviewerName    1365131 non-null  object \n",
      " 3   helpful         1365131 non-null  object \n",
      " 4   reviewText      1365131 non-null  object \n",
      " 5   overall         1365131 non-null  float64\n",
      " 6   summary         1365131 non-null  object \n",
      " 7   unixReviewTime  1365131 non-null  int64  \n",
      " 8   reviewTime      1365131 non-null  object \n",
      " 9   imUrl           1365131 non-null  object \n",
      " 10  description     1365131 non-null  object \n",
      " 11  categories      1365131 non-null  object \n",
      " 12  title           1365131 non-null  object \n",
      " 13  price           1365131 non-null  float64\n",
      " 14  salesRank       1365131 non-null  object \n",
      " 15  related         1365131 non-null  object \n",
      " 16  brand           1365131 non-null  object \n",
      "dtypes: float64(2), int64(1), object(14)\n",
      "memory usage: 177.1+ MB\n"
     ]
    }
   ],
   "source": [
    "dfr.info()"
   ]
  },
  {
   "cell_type": "code",
   "execution_count": 35,
   "id": "3463fe9b",
   "metadata": {},
   "outputs": [],
   "source": [
    "# rename the columns\n",
    "dfr = dfr.rename(columns={'reviewerID': 'reviewerId','asin': 'productId','overall': 'ratings','unixReviewTime': 'timestamp'})"
   ]
  },
  {
   "cell_type": "code",
   "execution_count": 36,
   "id": "0fbefab5",
   "metadata": {},
   "outputs": [
    {
     "name": "stdout",
     "output_type": "stream",
     "text": [
      "<class 'pandas.core.frame.DataFrame'>\n",
      "RangeIndex: 1365131 entries, 0 to 1365130\n",
      "Data columns (total 17 columns):\n",
      " #   Column        Non-Null Count    Dtype  \n",
      "---  ------        --------------    -----  \n",
      " 0   reviewerId    1365131 non-null  object \n",
      " 1   productId     1365131 non-null  object \n",
      " 2   reviewerName  1365131 non-null  object \n",
      " 3   helpful       1365131 non-null  object \n",
      " 4   reviewText    1365131 non-null  object \n",
      " 5   ratings       1365131 non-null  float64\n",
      " 6   summary       1365131 non-null  object \n",
      " 7   timestamp     1365131 non-null  int64  \n",
      " 8   reviewTime    1365131 non-null  object \n",
      " 9   imUrl         1365131 non-null  object \n",
      " 10  description   1365131 non-null  object \n",
      " 11  categories    1365131 non-null  object \n",
      " 12  title         1365131 non-null  object \n",
      " 13  price         1365131 non-null  float64\n",
      " 14  salesRank     1365131 non-null  object \n",
      " 15  related       1365131 non-null  object \n",
      " 16  brand         1365131 non-null  object \n",
      "dtypes: float64(2), int64(1), object(14)\n",
      "memory usage: 177.1+ MB\n"
     ]
    }
   ],
   "source": [
    "dfr.info()"
   ]
  },
  {
   "cell_type": "code",
   "execution_count": 37,
   "id": "a468653e",
   "metadata": {},
   "outputs": [
    {
     "data": {
      "text/plain": [
       "count    1.365131e+06\n",
       "mean     4.045989e+00\n",
       "std      1.381501e+00\n",
       "min      1.000000e+00\n",
       "25%      4.000000e+00\n",
       "50%      5.000000e+00\n",
       "75%      5.000000e+00\n",
       "max      5.000000e+00\n",
       "Name: ratings, dtype: float64"
      ]
     },
     "execution_count": 37,
     "metadata": {},
     "output_type": "execute_result"
    }
   ],
   "source": [
    "# Average Score\n",
    "dfr.describe()['ratings'].T"
   ]
  },
  {
   "cell_type": "code",
   "execution_count": 38,
   "id": "98623820",
   "metadata": {},
   "outputs": [
    {
     "data": {
      "text/plain": [
       "reviewerId      0\n",
       "productId       0\n",
       "reviewerName    0\n",
       "helpful         0\n",
       "reviewText      0\n",
       "ratings         0\n",
       "summary         0\n",
       "timestamp       0\n",
       "reviewTime      0\n",
       "imUrl           0\n",
       "description     0\n",
       "categories      0\n",
       "title           0\n",
       "price           0\n",
       "salesRank       0\n",
       "related         0\n",
       "brand           0\n",
       "dtype: int64"
      ]
     },
     "execution_count": 38,
     "metadata": {},
     "output_type": "execute_result"
    }
   ],
   "source": [
    "# Check for missing values\n",
    "dfr.isnull().sum()"
   ]
  },
  {
   "cell_type": "code",
   "execution_count": 39,
   "id": "44dee66a",
   "metadata": {},
   "outputs": [],
   "source": [
    "# considering 4 columns\n",
    "cols=['reviewerId', 'productId', 'ratings','timestamp']\n",
    "dfr_new = dfr[cols]"
   ]
  },
  {
   "cell_type": "code",
   "execution_count": 40,
   "id": "66ffb43d",
   "metadata": {},
   "outputs": [
    {
     "name": "stdout",
     "output_type": "stream",
     "text": [
      "<class 'pandas.core.frame.DataFrame'>\n",
      "RangeIndex: 1365131 entries, 0 to 1365130\n",
      "Data columns (total 4 columns):\n",
      " #   Column      Non-Null Count    Dtype  \n",
      "---  ------      --------------    -----  \n",
      " 0   reviewerId  1365131 non-null  object \n",
      " 1   productId   1365131 non-null  object \n",
      " 2   ratings     1365131 non-null  float64\n",
      " 3   timestamp   1365131 non-null  int64  \n",
      "dtypes: float64(1), int64(1), object(2)\n",
      "memory usage: 41.7+ MB\n"
     ]
    }
   ],
   "source": [
    "dfr_new.info()"
   ]
  },
  {
   "cell_type": "code",
   "execution_count": 41,
   "id": "f1400058",
   "metadata": {},
   "outputs": [],
   "source": [
    "# save the data to a new csv file\n",
    "import os\n",
    "datapath = '../data'\n",
    "\n",
    "datapath= os.path.join(datapath, '2.electronics_cleaned.csv')\n",
    "#if not os.path.exists(datapath_ccattr_step2):\n",
    "dfr_new.to_csv(datapath, index=False)"
   ]
  },
  {
   "cell_type": "code",
   "execution_count": 42,
   "id": "b01414a4",
   "metadata": {},
   "outputs": [
    {
     "name": "stdout",
     "output_type": "stream",
     "text": [
      "Number of reviews:  1365131\n",
      "Number of unique reviewers =  1036895\n",
      "Number of unique products =  35192\n",
      "Average rating score:  4.046\n"
     ]
    }
   ],
   "source": [
    "print ('Number of reviews: ',len(dfr))\n",
    "print('Number of unique reviewers = ', dfr['reviewerId'].nunique())\n",
    "print('Number of unique products = ', dfr['productId'].nunique())\n",
    "print (\"Average rating score: \",round(dfr['ratings'].mean(),3))"
   ]
  },
  {
   "cell_type": "code",
   "execution_count": 43,
   "id": "dfc89fae",
   "metadata": {},
   "outputs": [
    {
     "data": {
      "text/plain": [
       "reviewerId\n",
       "A3OXHLG6DIBRW8    79\n",
       "A2AY4YUOX2N1BQ    74\n",
       "A680RUE1FDO8B     67\n",
       "ADLVFFE4VBT8      57\n",
       "A2NOW4U7W3F7RI    55\n",
       "Name: ratings, dtype: int64"
      ]
     },
     "execution_count": 43,
     "metadata": {},
     "output_type": "execute_result"
    }
   ],
   "source": [
    "#Analysis of rating given by the user \n",
    "rated_products_per_user = dfr_new.groupby(by='reviewerId')['ratings'].count().sort_values(ascending=False)\n",
    "rated_products_per_user.head()"
   ]
  },
  {
   "cell_type": "code",
   "execution_count": 44,
   "id": "2274e313",
   "metadata": {},
   "outputs": [
    {
     "data": {
      "text/plain": [
       "ratings\n",
       "1.0    158473\n",
       "2.0     72715\n",
       "3.0    103776\n",
       "4.0    242761\n",
       "5.0    787406\n",
       "dtype: int64"
      ]
     },
     "execution_count": 44,
     "metadata": {},
     "output_type": "execute_result"
    }
   ],
   "source": [
    "#ratings_counts\n",
    "dfr.groupby('ratings').size()"
   ]
  },
  {
   "cell_type": "code",
   "execution_count": 61,
   "id": "89f28df5",
   "metadata": {},
   "outputs": [
    {
     "data": {
      "image/png": "[encoded data removed]",
      "text/plain": [
       "<Figure size 432x288 with 1 Axes>"
      ]
     },
     "metadata": {
      "needs_background": "light"
     },
     "output_type": "display_data"
    }
   ],
   "source": [
    "# Distribution of rating score\n",
    "dfr.groupby('ratings').size().plot(kind='bar')\n",
    "plt.title(\"Frequency of Review Rating\")\n",
    "plt.xlabel(\"Rating\")\n",
    "plt.ylabel(\"Number of reviews\")\n",
    "_= plt.xticks(rotation=0)"
   ]
  },
  {
   "cell_type": "code",
   "execution_count": 47,
   "id": "44fb525b",
   "metadata": {},
   "outputs": [
    {
     "data": {
      "text/plain": [
       "<AxesSubplot:xlabel='productId'>"
      ]
     },
     "execution_count": 47,
     "metadata": {},
     "output_type": "execute_result"
    },
    {
     "data": {
      "image/png": "[encoded data removed]",
      "text/plain": [
       "<Figure size 1800x864 with 1 Axes>"
      ]
     },
     "metadata": {
      "needs_background": "light"
     },
     "output_type": "display_data"
    }
   ],
   "source": [
    "# puplar products\n",
    "df_popular_pd = pd.DataFrame(dfr_new.groupby('productId')['ratings'].count())\n",
    "most_popular = df_popular_pd.sort_values('ratings', ascending=False)\n",
    "most_popular.head(30).plot(kind = \"bar\",figsize=(25, 12))"
   ]
  },
  {
   "cell_type": "code",
   "execution_count": 48,
   "id": "aa6ceb3e",
   "metadata": {},
   "outputs": [
    {
     "name": "stdout",
     "output_type": "stream",
     "text": [
      "Good ratings : 1133943\n",
      "Bad ratings : 231188 \n"
     ]
    }
   ],
   "source": [
    "# Classify ratings as good\n",
    "good_rate = len(dfr[dfr['ratings'] >= 3])\n",
    "bad_rate = len(dfr[dfr['ratings'] < 3])\n",
    "print ('Good ratings : {}'.format(good_rate))\n",
    "print ('Bad ratings : {} '.format(bad_rate))"
   ]
  },
  {
   "cell_type": "code",
   "execution_count": 49,
   "id": "df190b56",
   "metadata": {
    "scrolled": true
   },
   "outputs": [],
   "source": [
    "dfr['rating_class'] = dfr['ratings'].apply(lambda x: 'bad' if x < 3 else'good')"
   ]
  },
  {
   "cell_type": "code",
   "execution_count": 50,
   "id": "cf928694",
   "metadata": {},
   "outputs": [],
   "source": [
    "#time object to datetime and create a new column named 'time'\n",
    "dfr['time'] = dfr[\"reviewTime\"].str.replace(',', \"\")\n",
    "dfr['time'] = pd.to_datetime(dfr['time'], format = '%m %d %Y')\n",
    "dfr['year'] = dfr['time'].dt.year"
   ]
  },
  {
   "cell_type": "code",
   "execution_count": 66,
   "id": "4b7e7ffe",
   "metadata": {},
   "outputs": [
    {
     "data": {
      "image/png": "[encoded data removed]",
      "text/plain": [
       "<Figure size 864x576 with 1 Axes>"
      ]
     },
     "metadata": {
      "needs_background": "light"
     },
     "output_type": "display_data"
    },
    {
     "data": {
      "text/plain": [
       "2013    513513\n",
       "2014    346501\n",
       "2012    223490\n",
       "2011    128834\n",
       "2010     67371\n",
       "2009     35128\n",
       "2008     22228\n",
       "2007     15586\n",
       "2006      5825\n",
       "2005      2900\n",
       "2004      1298\n",
       "2003      1172\n",
       "2002       597\n",
       "2001       366\n",
       "2000       312\n",
       "1999        10\n",
       "Name: year, dtype: int64"
      ]
     },
     "execution_count": 66,
     "metadata": {},
     "output_type": "execute_result"
    }
   ],
   "source": [
    "#review for every year\n",
    "plt.figure(figsize = (12,8))\n",
    "sns.countplot(x=dfr['year'])\n",
    "plt.title('Total Review Numbers for per Year')\n",
    "plt.xlabel('year')\n",
    "plt.ylabel('Number of Reviews')\n",
    "plt.show()\n",
    "\n",
    "# Customer totals for each rating class\n",
    "dfr['year'].value_counts()"
   ]
  },
  {
   "cell_type": "markdown",
   "id": "e38d3430",
   "metadata": {},
   "source": [
    "Number of reviews was maximum in the year 2013.Looks there were hardly ratings done on products till 2002 and slowly started from 2003."
   ]
  },
  {
   "cell_type": "code",
   "execution_count": 52,
   "id": "89fe513f",
   "metadata": {},
   "outputs": [
    {
     "name": "stdout",
     "output_type": "stream",
     "text": [
      "Number of unique customers: 1151618\n"
     ]
    }
   ],
   "source": [
    "unique_cust = dfr.groupby('year')['reviewerId'].nunique()\n",
    "print(f'Number of unique customers: {unique_cust.sum()}')"
   ]
  },
  {
   "cell_type": "code",
   "execution_count": 53,
   "id": "9e881c42",
   "metadata": {},
   "outputs": [
    {
     "name": "stdout",
     "output_type": "stream",
     "text": [
      "year\n",
      "1999        10\n",
      "2000       294\n",
      "2001       351\n",
      "2002       575\n",
      "2003      1142\n",
      "2004      1255\n",
      "2005      2755\n",
      "2006      5533\n",
      "2007     14563\n",
      "2008     20669\n",
      "2009     32483\n",
      "2010     61782\n",
      "2011    115009\n",
      "2012    192277\n",
      "2013    414734\n",
      "2014    288186\n",
      "Name: reviewerId, dtype: int64\n"
     ]
    }
   ],
   "source": [
    "# Print unique customer numbers in each year\n",
    "print(unique_cust)"
   ]
  },
  {
   "cell_type": "code",
   "execution_count": 65,
   "id": "312cf9f5",
   "metadata": {},
   "outputs": [
    {
     "data": {
      "image/png": "[encoded data removed]",
      "text/plain": [
       "<Figure size 720x432 with 1 Axes>"
      ]
     },
     "metadata": {
      "needs_background": "light"
     },
     "output_type": "display_data"
    }
   ],
   "source": [
    "# Plot unique customer numbers in each year\n",
    "plt.figure(figsize = (10,6))\n",
    "unique_cust.plot(kind='bar', rot = 0)\n",
    "plt.title('Unique Customers in per Year', color='b', size = 12)\n",
    "plt.xlabel('Year')\n",
    "plt.ylabel('Unique Customer Numbers')\n",
    "plt.show()"
   ]
  },
  {
   "cell_type": "markdown",
   "id": "87de216b",
   "metadata": {},
   "source": [
    "Customer were on year 2013,flowwed with year 2014 and 2012. looks not much of cstomer into online stores till 2005."
   ]
  },
  {
   "cell_type": "code",
   "execution_count": 55,
   "id": "c453a279",
   "metadata": {},
   "outputs": [
    {
     "name": "stdout",
     "output_type": "stream",
     "text": [
      "  rating  customers  reviews\n",
      "0    bad     219651   231188\n",
      "1   good     860270  1133943\n"
     ]
    }
   ],
   "source": [
    "# unique customers for each \"rating class\"\n",
    "a = list(dfr.groupby(['rating_class'])['reviewerId'].unique())  \n",
    "\n",
    "# number of customers\n",
    "a2 = [len(a[0]),len(a[1])] \n",
    "\n",
    "# number of reviews for each \"rating class\"\n",
    "b = list(dfr['rating_class'].value_counts())              \n",
    "\n",
    "uniq_cust_rate = pd.DataFrame({'rating': ['bad', 'good'],\n",
    "                               'customers': a2,\n",
    "                               'reviews': sorted(b)})\n",
    "print(uniq_cust_rate)"
   ]
  },
  {
   "cell_type": "code",
   "execution_count": 56,
   "id": "70580ee9",
   "metadata": {},
   "outputs": [
    {
     "name": "stdout",
     "output_type": "stream",
     "text": [
      "Number of unique products: 96358\n"
     ]
    }
   ],
   "source": [
    "#unique product\n",
    "unique_prod = dfr.groupby('year')['productId'].nunique()\n",
    "print(f'Number of unique products: {unique_prod.sum()}')"
   ]
  },
  {
   "cell_type": "code",
   "execution_count": 57,
   "id": "2d264e79",
   "metadata": {},
   "outputs": [
    {
     "name": "stdout",
     "output_type": "stream",
     "text": [
      "year\n",
      "1999        7\n",
      "2000       76\n",
      "2001      104\n",
      "2002      129\n",
      "2003      186\n",
      "2004      287\n",
      "2005      542\n",
      "2006      804\n",
      "2007     1769\n",
      "2008     2482\n",
      "2009     3827\n",
      "2010     7002\n",
      "2011    11177\n",
      "2012    17387\n",
      "2013    26257\n",
      "2014    24322\n",
      "Name: productId, dtype: int64\n"
     ]
    }
   ],
   "source": [
    "# Print unique product numbers in each year\n",
    "print(unique_prod)"
   ]
  },
  {
   "cell_type": "code",
   "execution_count": 64,
   "id": "391e95ef",
   "metadata": {},
   "outputs": [
    {
     "data": {
      "image/png": "[encoded data removed]",
      "text/plain": [
       "<Figure size 720x432 with 1 Axes>"
      ]
     },
     "metadata": {
      "needs_background": "light"
     },
     "output_type": "display_data"
    }
   ],
   "source": [
    "# Plot unique product numbers in each year\n",
    "plt.figure(figsize = (10,6))\n",
    "unique_prod.plot(kind='bar', rot =0)\n",
    "plt.title('Unique Products in per Year', color = 'b', size = 12)\n",
    "plt.xlabel('Year')\n",
    "plt.ylabel('Unique Product Numbers')\n",
    "plt.show()"
   ]
  },
  {
   "cell_type": "markdown",
   "id": "67c131a2",
   "metadata": {},
   "source": [
    "Looks not much of products till 2007 and year 2013 has seen more products"
   ]
  },
  {
   "cell_type": "markdown",
   "id": "a0f2e009",
   "metadata": {},
   "source": [
    "### Summary"
   ]
  },
  {
   "cell_type": "markdown",
   "id": "7b9a0f40",
   "metadata": {},
   "source": [
    "Data set had 1m rows and with no null values. out of 17 features only 4 features viz.,'reviewerId', 'productId', 'ratings','timestamp' are considered.Various types of distribution are looked at to get a better understanding of data. here is the summary of insights - Number of reviews: 1365131 Number of unique reviewers = 1036895 Number of unique products = 35192 Average rating score: 4.046\n",
    "Products were rated with discrete numbers 1,2,3,4,5. single Reviewer rated more than 50 times. This shows customers are buying many products from this store.\n",
    "From 1999 to 2004, not many reviews were given, maybe customers were buying less product, or reviews and ratings were not that significant for product purchase.\n"
   ]
  },
  {
   "cell_type": "code",
   "execution_count": null,
   "id": "61d432f5",
   "metadata": {},
   "outputs": [],
   "source": []
  }
 ],
 "metadata": {
  "kernelspec": {
   "display_name": "Python 3",
   "language": "python",
   "name": "python3"
  },
  "language_info": {
   "codemirror_mode": {
    "name": "ipython",
    "version": 3
   },
   "file_extension": ".py",
   "mimetype": "text/x-python",
   "name": "python",
   "nbconvert_exporter": "python",
   "pygments_lexer": "ipython3",
   "version": "3.8.8"
  }
 },
 "nbformat": 4,
 "nbformat_minor": 5
}
